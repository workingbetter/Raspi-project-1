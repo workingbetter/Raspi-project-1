{
  "nbformat": 4,
  "nbformat_minor": 0,
  "metadata": {
    "colab": {
      "provenance": [],
      "authorship_tag": "ABX9TyPBUNA8PTeG768Q1BzizhqB",
      "include_colab_link": true
    },
    "kernelspec": {
      "name": "python3",
      "display_name": "Python 3"
    },
    "language_info": {
      "name": "python"
    }
  },
  "cells": [
    {
      "cell_type": "markdown",
      "metadata": {
        "id": "view-in-github",
        "colab_type": "text"
      },
      "source": [
        "<a href=\"https://colab.research.google.com/github/workingbetter/Raspi-project-1/blob/main/blink.ipynb\" target=\"_parent\"><img src=\"https://colab.research.google.com/assets/colab-badge.svg\" alt=\"Open In Colab\"/></a>"
      ]
    },
    {
      "cell_type": "code",
      "execution_count": 5,
      "metadata": {
        "id": "ffqJHTAUO8Hj"
      },
      "outputs": [],
      "source": [
        "# Blink program\n",
        "from gpiozero import LED\n",
        "from time import sleep\n",
        "\n",
        "led = LED(17)           # define LED pin according to BCM Numbering\n",
        "#led = LED(\"J8:11\")     # BOARD Numbering\n",
        "\n",
        "def loop():\n",
        "    while True:\n",
        "        led.on()    # turn on LED\n",
        "        print ('led turned on >>>')  # print message on terminal\n",
        "        sleep(1)    # wait 1 second\n",
        "        led.off()   # turn off LED\n",
        "        print ('led turned off <<<') # print message on terminal\n",
        "        sleep(0.3)    # wait 1 second\n",
        "\n",
        "if __name__ == '__main__':    # Program entrance\n",
        "    print ('Program is starting ... \\n')\n",
        "    try:\n",
        "        loop()\n",
        "    except KeyboardInterrupt:  # Press ctrl-c to end the program.\n",
        "        print(\"Ending program\")\n"
      ]
    }
  ]
}