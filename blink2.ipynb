{
  "nbformat": 4,
  "nbformat_minor": 0,
  "metadata": {
    "colab": {
      "provenance": [],
      "authorship_tag": "ABX9TyMNCql/AJWntvkuYDRx5DEJ",
      "include_colab_link": true
    },
    "kernelspec": {
      "name": "python3",
      "display_name": "Python 3"
    },
    "language_info": {
      "name": "python"
    }
  },
  "cells": [
    {
      "cell_type": "markdown",
      "metadata": {
        "id": "view-in-github",
        "colab_type": "text"
      },
      "source": [
        "<a href=\"https://colab.research.google.com/github/workingbetter/Raspi-project-1/blob/main/blink2.ipynb\" target=\"_parent\"><img src=\"https://colab.research.google.com/assets/colab-badge.svg\" alt=\"Open In Colab\"/></a>"
      ]
    },
    {
      "cell_type": "code",
      "execution_count": null,
      "metadata": {
        "id": "h-CA6kFxkN-Y"
      },
      "outputs": [],
      "source": [
        "from gpiozero import LED\n",
        "from time import sleep\n",
        "\n",
        "led = LED(17)  # Define LED pin according to BCM Numbering\n",
        "\n",
        "def blink_pattern():\n",
        "    \"\"\"Blink the LED in a specific pattern.\"\"\"\n",
        "    pattern = [\n",
        "        (1, 0.3),  # (on_time, off_time)\n",
        "        (0.5, 0.5),\n",
        "        (1, 0.1),\n",
        "        (0.2, 0.2),\n",
        "    ]\n",
        "\n",
        "    while True:\n",
        "        for on_time, off_time in pattern:\n",
        "            led.on()\n",
        "            print(f'LED turned on >>> (on for {on_time}s)')\n",
        "            sleep(on_time)\n",
        "            led.off()\n",
        "            print(f'LED turned off <<< (off for {off_time}s)')\n",
        "            sleep(off_time)\n",
        "\n",
        "if __name__ == '__main__':\n",
        "    print('Program is starting ... \\n')\n",
        "    try:\n",
        "        blink_pattern()\n",
        "    except KeyboardInterrupt:  # Press ctrl-c to end the program\n",
        "        print(\"Ending program\")\n"
      ]
    }
  ]
}